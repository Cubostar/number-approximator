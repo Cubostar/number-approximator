{
 "cells": [
  {
   "cell_type": "code",
   "execution_count": 1,
   "id": "f6900fa5",
   "metadata": {},
   "outputs": [],
   "source": [
    "import numpy as np\n",
    "import matplotlib.pyplot as plt\n",
    "\n",
    "from typing import Tuple"
   ]
  },
  {
   "cell_type": "code",
   "execution_count": 30,
   "id": "b27393a6",
   "metadata": {},
   "outputs": [],
   "source": [
    "def basic(tol: float, ns: np.ndarray) -> Tuple[np.ndarray, np.ndarray, np.ndarray]:\n",
    "    \"\"\"\n",
    "    Runs the basic algorithm.\n",
    "    \n",
    "    Inputs:\n",
    "    tol (float) : tolerance\n",
    "    ns (np.ndarray) : list of numbers to run algorithm\n",
    "    \n",
    "    Outputs:\n",
    "    counts : number of iterations for each number\n",
    "    a : numerators of each number\n",
    "    b : denominators of each number\n",
    "    \"\"\"\n",
    "    \n",
    "    a = np.ones(ns.shape)\n",
    "    b = np.ones(ns.shape)\n",
    "    counts = np.ones(ns.shape)\n",
    "    curr = a / b\n",
    "    \n",
    "    while np.any(np.abs(curr - ns) > tol):\n",
    "        a = np.where((np.abs(curr - ns) > tol) & (curr - ns < tol), a + 1, a)\n",
    "        b = np.where((np.abs(curr - ns) > tol) & (curr - ns > tol), b + 1, b)\n",
    "        counts = np.where(np.abs(curr - ns > tol), counts + 1, counts)\n",
    "        curr = a / b\n",
    "        \n",
    "    return counts, a, b"
   ]
  },
  {
   "cell_type": "code",
   "execution_count": 63,
   "id": "a3955fed",
   "metadata": {},
   "outputs": [],
   "source": [
    "ns = np.linspace(0.0, 2.0, 1001)[1:-1]\n",
    "basic_counts, basic_a, basic_b = basic(1e-5, ns)"
   ]
  },
  {
   "cell_type": "code",
   "execution_count": 64,
   "id": "938e0338",
   "metadata": {},
   "outputs": [
    {
     "data": {
      "text/plain": [
       "<matplotlib.collections.PathCollection at 0x200eb31a580>"
      ]
     },
     "execution_count": 64,
     "metadata": {},
     "output_type": "execute_result"
    },
    {
     "data": {
      "image/png": "[encoded data removed]",
      "text/plain": [
       "<Figure size 432x288 with 1 Axes>"
      ]
     },
     "metadata": {
      "needs_background": "light"
     },
     "output_type": "display_data"
    }
   ],
   "source": [
    "fig, ax = plt.subplots()\n",
    "plt.title(\"Counts\")\n",
    "plt.scatter(ns, basic_counts, s=2)"
   ]
  },
  {
   "cell_type": "code",
   "execution_count": 70,
   "id": "190d35c7",
   "metadata": {},
   "outputs": [],
   "source": [
    "def monotone_numerator(tol: float, ns: np.ndarray) -> Tuple[np.ndarray, np.ndarray, np.ndarray]:\n",
    "    \"\"\"\n",
    "    Runs the monotone numerator algorithm.\n",
    "    \n",
    "    Inputs:\n",
    "    tol (float) : tolerance\n",
    "    ns (np.ndarray) : list of numbers to run algorithm\n",
    "    \n",
    "    Outputs:\n",
    "    counts : number of iterations for each number\n",
    "    a : numerators of each number\n",
    "    b : denominators of each number\n",
    "    \"\"\"\n",
    "    \n",
    "    a = np.ones(ns.shape)\n",
    "    b = np.ones(ns.shape)\n",
    "    counts = np.ones(ns.shape)\n",
    "    curr = a / b\n",
    "    \n",
    "    while np.any(np.abs(curr - ns) > tol):\n",
    "        a = np.where((np.abs(curr - ns) > tol) & (curr - ns < tol), a + 1, a)\n",
    "        b = np.where((np.abs(curr - ns) > tol) & (curr - ns > tol), b + 1, b - 1)\n",
    "        counts = np.where(np.abs(curr - ns > tol), counts + 1, counts)\n",
    "        curr = a / b\n",
    "        \n",
    "    return counts, a, b"
   ]
  },
  {
   "cell_type": "code",
   "execution_count": 71,
   "id": "8b5a40ba",
   "metadata": {},
   "outputs": [
    {
     "name": "stderr",
     "output_type": "stream",
     "text": [
      "C:\\Users\\cubos\\AppData\\Local\\Temp\\ipykernel_12780\\571509393.py:24: RuntimeWarning: divide by zero encountered in true_divide\n",
      "  curr = a / b\n"
     ]
    },
    {
     "ename": "KeyboardInterrupt",
     "evalue": "",
     "output_type": "error",
     "traceback": [
      "\u001b[1;31m---------------------------------------------------------------------------\u001b[0m",
      "\u001b[1;31mKeyboardInterrupt\u001b[0m                         Traceback (most recent call last)",
      "Input \u001b[1;32mIn [71]\u001b[0m, in \u001b[0;36m<cell line: 2>\u001b[1;34m()\u001b[0m\n\u001b[0;32m      1\u001b[0m ns \u001b[38;5;241m=\u001b[39m np\u001b[38;5;241m.\u001b[39mlinspace(\u001b[38;5;241m0.0\u001b[39m, \u001b[38;5;241m1.0\u001b[39m, \u001b[38;5;241m1001\u001b[39m)[\u001b[38;5;241m1\u001b[39m:\u001b[38;5;241m-\u001b[39m\u001b[38;5;241m1\u001b[39m]\n\u001b[1;32m----> 2\u001b[0m numerator_counts, numerator_a, numerator_b \u001b[38;5;241m=\u001b[39m \u001b[43mmonotone_numerator\u001b[49m\u001b[43m(\u001b[49m\u001b[38;5;241;43m1e-5\u001b[39;49m\u001b[43m,\u001b[49m\u001b[43m \u001b[49m\u001b[43mns\u001b[49m\u001b[43m)\u001b[49m\n",
      "Input \u001b[1;32mIn [70]\u001b[0m, in \u001b[0;36mmonotone_numerator\u001b[1;34m(tol, ns)\u001b[0m\n\u001b[0;32m     21\u001b[0m     a \u001b[38;5;241m=\u001b[39m np\u001b[38;5;241m.\u001b[39mwhere((np\u001b[38;5;241m.\u001b[39mabs(curr \u001b[38;5;241m-\u001b[39m ns) \u001b[38;5;241m>\u001b[39m tol) \u001b[38;5;241m&\u001b[39m (curr \u001b[38;5;241m-\u001b[39m ns \u001b[38;5;241m<\u001b[39m tol), a \u001b[38;5;241m+\u001b[39m \u001b[38;5;241m1\u001b[39m, a)\n\u001b[0;32m     22\u001b[0m     b \u001b[38;5;241m=\u001b[39m np\u001b[38;5;241m.\u001b[39mwhere((np\u001b[38;5;241m.\u001b[39mabs(curr \u001b[38;5;241m-\u001b[39m ns) \u001b[38;5;241m>\u001b[39m tol) \u001b[38;5;241m&\u001b[39m (curr \u001b[38;5;241m-\u001b[39m ns \u001b[38;5;241m>\u001b[39m tol), b \u001b[38;5;241m+\u001b[39m \u001b[38;5;241m1\u001b[39m, b \u001b[38;5;241m-\u001b[39m \u001b[38;5;241m1\u001b[39m)\n\u001b[1;32m---> 23\u001b[0m     counts \u001b[38;5;241m=\u001b[39m np\u001b[38;5;241m.\u001b[39mwhere(np\u001b[38;5;241m.\u001b[39mabs(curr \u001b[38;5;241m-\u001b[39m ns \u001b[38;5;241m>\u001b[39m tol), \u001b[43mcounts\u001b[49m\u001b[43m \u001b[49m\u001b[38;5;241;43m+\u001b[39;49m\u001b[43m \u001b[49m\u001b[38;5;241;43m1\u001b[39;49m, counts)\n\u001b[0;32m     24\u001b[0m     curr \u001b[38;5;241m=\u001b[39m a \u001b[38;5;241m/\u001b[39m b\n\u001b[0;32m     26\u001b[0m \u001b[38;5;28;01mreturn\u001b[39;00m counts, a, b\n",
      "\u001b[1;31mKeyboardInterrupt\u001b[0m: "
     ]
    }
   ],
   "source": [
    "ns = np.linspace(0.0, 1.0, 1001)[1:-1]\n",
    "numerator_counts, numerator_a, numerator_b = monotone_numerator(1e-5, ns)"
   ]
  },
  {
   "cell_type": "code",
   "execution_count": 57,
   "id": "f4cdea59",
   "metadata": {},
   "outputs": [
    {
     "data": {
      "text/plain": [
       "<matplotlib.collections.PathCollection at 0x200eb1eafd0>"
      ]
     },
     "execution_count": 57,
     "metadata": {},
     "output_type": "execute_result"
    },
    {
     "data": {
      "image/png": "[encoded data removed]",
      "text/plain": [
       "<Figure size 432x288 with 1 Axes>"
      ]
     },
     "metadata": {
      "needs_background": "light"
     },
     "output_type": "display_data"
    }
   ],
   "source": [
    "fig, ax = plt.subplots()\n",
    "plt.title(\"Counts\")\n",
    "plt.scatter(ns, counts, s=2)"
   ]
  },
  {
   "cell_type": "code",
   "execution_count": 58,
   "id": "5fab3f85",
   "metadata": {},
   "outputs": [],
   "source": [
    "def monotone_denominator(tol: float, ns: np.ndarray) -> Tuple[np.ndarray, np.ndarray, np.ndarray]:\n",
    "    \"\"\"\n",
    "    Runs the monotone denominator algorithm.\n",
    "    \n",
    "    Inputs:\n",
    "    tol (float) : tolerance\n",
    "    ns (np.ndarray) : list of numbers to run algorithm\n",
    "    \n",
    "    Outputs:\n",
    "    counts : number of iterations for each number\n",
    "    a : numerators of each number\n",
    "    b : denominators of each number\n",
    "    \"\"\"\n",
    "    \n",
    "    a = np.ones(ns.shape)\n",
    "    b = np.ones(ns.shape)\n",
    "    counts = np.ones(ns.shape)\n",
    "    curr = a / b\n",
    "    \n",
    "    while np.any(np.abs(curr - ns) > tol):\n",
    "        a = np.where((np.abs(curr - ns) > tol) & (curr - ns < tol), a + 1, a - 1)\n",
    "        b = np.where((np.abs(curr - ns) > tol) & (curr - ns > tol), b + 1, b)\n",
    "        counts = np.where(np.abs(curr - ns > tol), counts + 1, counts)\n",
    "        curr = a / b\n",
    "        \n",
    "    return counts, a, b"
   ]
  },
  {
   "cell_type": "code",
   "execution_count": 59,
   "id": "628ba1b2",
   "metadata": {},
   "outputs": [],
   "source": [
    "ns = np.linspace(0.0, 2.0, 1001)[1:-1]\n",
    "counts, a, b = basic(1e-5, ns)"
   ]
  },
  {
   "cell_type": "code",
   "execution_count": 60,
   "id": "1ad79ba5",
   "metadata": {},
   "outputs": [
    {
     "data": {
      "text/plain": [
       "<matplotlib.collections.PathCollection at 0x200eb246250>"
      ]
     },
     "execution_count": 60,
     "metadata": {},
     "output_type": "execute_result"
    },
    {
     "data": {
      "image/png": "[encoded data removed]",
      "text/plain": [
       "<Figure size 432x288 with 1 Axes>"
      ]
     },
     "metadata": {
      "needs_background": "light"
     },
     "output_type": "display_data"
    }
   ],
   "source": [
    "fig, ax = plt.subplots()\n",
    "plt.title(\"Counts\")\n",
    "plt.scatter(ns, counts, s=2)"
   ]
  },
  {
   "cell_type": "code",
   "execution_count": null,
   "id": "72c9ccf3",
   "metadata": {},
   "outputs": [],
   "source": []
  }
 ],
 "metadata": {
  "kernelspec": {
   "display_name": "Python 3 (ipykernel)",
   "language": "python",
   "name": "python3"
  },
  "language_info": {
   "codemirror_mode": {
    "name": "ipython",
    "version": 3
   },
   "file_extension": ".py",
   "mimetype": "text/x-python",
   "name": "python",
   "nbconvert_exporter": "python",
   "pygments_lexer": "ipython3",
   "version": "3.9.12"
  }
 },
 "nbformat": 4,
 "nbformat_minor": 5
}
